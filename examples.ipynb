{
 "cells": [
  {
   "cell_type": "code",
   "execution_count": 338,
   "metadata": {},
   "outputs": [
    {
     "name": "stdout",
     "output_type": "stream",
     "text": [
      "The autoreload extension is already loaded. To reload it, use:\n",
      "  %reload_ext autoreload\n"
     ]
    }
   ],
   "source": [
    "%load_ext autoreload\n",
    "%autoreload 2\n",
    "import sys\n",
    "import logging\n",
    "from random import randint\n",
    "\n",
    "import heap\n",
    "import find_median as fm\n",
    "ch = logging.StreamHandler(sys.stdout)\n",
    "ch.setFormatter(logging.Formatter('%(name)s - %(levelname)s - %(message)s'))\n",
    "root = logging.getLogger()\n",
    "root.addHandler(ch)\n",
    "heap.logger.setLevel(logging.DEBUG)"
   ]
  },
  {
   "cell_type": "code",
   "execution_count": 323,
   "metadata": {},
   "outputs": [],
   "source": [
    "class Solution:\n",
    "    def calculate_combo(self, first_str_cond, sec_str):\n",
    "        if first_str_cond == 0:\n",
    "            return 0\n",
    "        else:\n",
    "            return first_str_cond * self.numDecodings(sec_str)\n",
    "    \n",
    "    \n",
    "    def numDecodings(self, s):\n",
    "        \"\"\"\n",
    "        :type s: str\n",
    "        :rtype: int\n",
    "        \"\"\"\n",
    "        print(s)\n",
    "        if s == '':\n",
    "            return 0\n",
    "        if s[0]=='0':\n",
    "            return 0\n",
    "        if len(s)==1:\n",
    "            return int(s!='0')\n",
    "        if len(s)==2:\n",
    "            return int(0 < int(s[:2]) < 27) + int(s[1]!='0')\n",
    "        if int(s[:2]) > 26 and s[1]=='0':\n",
    "            return 0\n",
    "        else:\n",
    "            return (\n",
    "                self.calculate_combo(int(s[0]!='0'), s[1:] )\n",
    "                + self.calculate_combo(int(0 < int(s[:2]) < 27), s[2:])\n",
    "            )"
   ]
  },
  {
   "cell_type": "code",
   "execution_count": 324,
   "metadata": {},
   "outputs": [],
   "source": [
    "class Solution(object):\n",
    "    def numDecodings(self, s):\n",
    "        memo = {}\n",
    "        def helper(idx):\n",
    "            if idx == len(s):\n",
    "                return 1\n",
    "            elif idx > len(s) or s[idx] == '0':\n",
    "                return 0\n",
    "            if idx not in memo:\n",
    "                memo[idx] = helper(idx+1)\n",
    "                if s[idx] == '1' or (\n",
    "                    s[idx] == '2' and idx+1 < len(s) and s[idx+1] <= '6'):\n",
    "                    memo[idx] += helper(idx+2)\n",
    "            print(memo)\n",
    "            return memo[idx]\n",
    "        return helper(0)"
   ]
  },
  {
   "cell_type": "code",
   "execution_count": 325,
   "metadata": {},
   "outputs": [],
   "source": [
    "s = Solution()"
   ]
  },
  {
   "cell_type": "code",
   "execution_count": 326,
   "metadata": {},
   "outputs": [
    {
     "name": "stdout",
     "output_type": "stream",
     "text": [
      "{6: 1}\n",
      "{6: 1, 5: 2}\n",
      "{6: 1, 5: 2, 4: 2}\n",
      "{6: 1, 5: 2, 4: 2, 3: 2}\n",
      "{6: 1, 5: 2, 4: 2, 3: 2, 2: 2}\n",
      "{6: 1, 5: 2, 4: 2, 3: 2, 2: 4}\n",
      "{6: 1, 5: 2, 4: 2, 3: 2, 2: 4, 1: 4}\n",
      "{6: 1, 5: 2, 4: 2, 3: 2, 2: 4, 1: 4, 0: 4}\n"
     ]
    },
    {
     "data": {
      "text/plain": [
       "4"
      ]
     },
     "execution_count": 326,
     "metadata": {},
     "output_type": "execute_result"
    }
   ],
   "source": [
    "s.numDecodings(\"4715818\")"
   ]
  },
  {
   "cell_type": "code",
   "execution_count": 327,
   "metadata": {},
   "outputs": [
    {
     "name": "stdout",
     "output_type": "stream",
     "text": [
      "heap - DEBUG - init_from_list idx 1\n",
      "heap - DEBUG - init_from_list idx 1\n",
      "heap - DEBUG - init_from_list idx 1\n",
      "heap - DEBUG - init_from_list in while h[1]=0\n",
      "heap - DEBUG - init_from_list in while h[1]=0\n",
      "heap - DEBUG - init_from_list in while h[1]=0\n",
      "heap - DEBUG - perc_down h[1]=0\n",
      "heap - DEBUG - perc_down h[1]=0\n",
      "heap - DEBUG - perc_down h[1]=0\n",
      "heap - DEBUG - perc_down min child h[2]=3\n",
      "heap - DEBUG - perc_down min child h[2]=3\n",
      "heap - DEBUG - perc_down min child h[2]=3\n"
     ]
    }
   ],
   "source": [
    "bh = heap.Bin_Heap([0, 3, 4])"
   ]
  },
  {
   "cell_type": "code",
   "execution_count": 328,
   "metadata": {},
   "outputs": [
    {
     "data": {
      "text/plain": [
       "[0, 0, 3, 4]"
      ]
     },
     "execution_count": 328,
     "metadata": {},
     "output_type": "execute_result"
    }
   ],
   "source": [
    "bh.items"
   ]
  },
  {
   "cell_type": "code",
   "execution_count": 337,
   "metadata": {},
   "outputs": [
    {
     "name": "stdout",
     "output_type": "stream",
     "text": [
      "[5, 2, 3, 4, 1] 0\n",
      "[5, 2, 3, 4, 1] 1\n",
      "[5, 2, 3, 4, 1] 2\n",
      "[5, 2, 3, 4, 1] 3\n",
      "[5, 2, 3, 4, 1] 4\n",
      "[5, 2, 3, 4, 1] 4\n"
     ]
    },
    {
     "data": {
      "text/plain": [
       "4"
      ]
     },
     "execution_count": 337,
     "metadata": {},
     "output_type": "execute_result"
    }
   ],
   "source": [
    "fm.pivot_around(0, [1, 2, 3, 4, 5])"
   ]
  },
  {
   "cell_type": "code",
   "execution_count": 355,
   "metadata": {},
   "outputs": [
    {
     "name": "stdout",
     "output_type": "stream",
     "text": [
      "mp 3\n",
      "5\n",
      "0\n",
      "5\n",
      "1\n"
     ]
    },
    {
     "ename": "IndexError",
     "evalue": "list index out of range",
     "output_type": "error",
     "traceback": [
      "\u001b[0;31m---------------------------------------------------------------------------\u001b[0m",
      "\u001b[0;31mIndexError\u001b[0m                                Traceback (most recent call last)",
      "\u001b[0;32m<ipython-input-355-796b61bb013b>\u001b[0m in \u001b[0;36m<module>\u001b[0;34m()\u001b[0m\n\u001b[0;32m----> 1\u001b[0;31m \u001b[0mfm\u001b[0m\u001b[0;34m.\u001b[0m\u001b[0mfind_median_quick\u001b[0m\u001b[0;34m(\u001b[0m\u001b[0;34m[\u001b[0m\u001b[0;36m1\u001b[0m\u001b[0;34m,\u001b[0m\u001b[0;36m2\u001b[0m\u001b[0;34m,\u001b[0m\u001b[0;36m3\u001b[0m\u001b[0;34m,\u001b[0m\u001b[0;36m4\u001b[0m\u001b[0;34m,\u001b[0m\u001b[0;36m5\u001b[0m\u001b[0;34m,\u001b[0m \u001b[0;36m6\u001b[0m\u001b[0;34m]\u001b[0m\u001b[0;34m)\u001b[0m\u001b[0;34m\u001b[0m\u001b[0m\n\u001b[0m",
      "\u001b[0;32m~/projects/algorithms/find_median.py\u001b[0m in \u001b[0;36mfind_median_quick\u001b[0;34m(l)\u001b[0m\n\u001b[1;32m     45\u001b[0m     \u001b[0;32mwhile\u001b[0m \u001b[0mleft\u001b[0m \u001b[0;34m<\u001b[0m \u001b[0mright\u001b[0m\u001b[0;34m:\u001b[0m\u001b[0;34m\u001b[0m\u001b[0m\n\u001b[1;32m     46\u001b[0m         \u001b[0mpivot\u001b[0m \u001b[0;34m=\u001b[0m \u001b[0mrandint\u001b[0m\u001b[0;34m(\u001b[0m\u001b[0;36m0\u001b[0m\u001b[0;34m,\u001b[0m \u001b[0mlen\u001b[0m\u001b[0;34m(\u001b[0m\u001b[0ml\u001b[0m\u001b[0;34m)\u001b[0m \u001b[0;34m-\u001b[0m \u001b[0;36m1\u001b[0m\u001b[0;34m)\u001b[0m\u001b[0;34m\u001b[0m\u001b[0m\n\u001b[0;32m---> 47\u001b[0;31m         \u001b[0mnew_pivot\u001b[0m \u001b[0;34m=\u001b[0m \u001b[0mpivot_around\u001b[0m\u001b[0;34m(\u001b[0m\u001b[0mpivot\u001b[0m\u001b[0;34m,\u001b[0m \u001b[0ml\u001b[0m\u001b[0;34m,\u001b[0m \u001b[0mleft\u001b[0m\u001b[0;34m,\u001b[0m \u001b[0mright\u001b[0m\u001b[0;34m)\u001b[0m\u001b[0;34m\u001b[0m\u001b[0m\n\u001b[0m\u001b[1;32m     48\u001b[0m         \u001b[0mprint\u001b[0m\u001b[0;34m(\u001b[0m\u001b[0mnew_pivot\u001b[0m\u001b[0;34m)\u001b[0m\u001b[0;34m\u001b[0m\u001b[0m\n\u001b[1;32m     49\u001b[0m         \u001b[0;32mif\u001b[0m \u001b[0mnew_pivot\u001b[0m \u001b[0;34m==\u001b[0m \u001b[0mmed_position\u001b[0m\u001b[0;34m:\u001b[0m\u001b[0;34m\u001b[0m\u001b[0m\n",
      "\u001b[0;32m~/projects/algorithms/find_median.py\u001b[0m in \u001b[0;36mpivot_around\u001b[0;34m(p_idx, l, left, right)\u001b[0m\n\u001b[1;32m     34\u001b[0m             \u001b[0ml\u001b[0m\u001b[0;34m[\u001b[0m\u001b[0mi\u001b[0m\u001b[0;34m]\u001b[0m\u001b[0;34m,\u001b[0m \u001b[0ml\u001b[0m\u001b[0;34m[\u001b[0m\u001b[0mnew_pivot\u001b[0m\u001b[0;34m]\u001b[0m \u001b[0;34m=\u001b[0m \u001b[0ml\u001b[0m\u001b[0;34m[\u001b[0m\u001b[0mnew_pivot\u001b[0m\u001b[0;34m]\u001b[0m\u001b[0;34m,\u001b[0m \u001b[0ml\u001b[0m\u001b[0;34m[\u001b[0m\u001b[0mi\u001b[0m\u001b[0;34m]\u001b[0m\u001b[0;34m\u001b[0m\u001b[0m\n\u001b[1;32m     35\u001b[0m             \u001b[0mnew_pivot\u001b[0m \u001b[0;34m+=\u001b[0m \u001b[0;36m1\u001b[0m\u001b[0;34m\u001b[0m\u001b[0m\n\u001b[0;32m---> 36\u001b[0;31m     \u001b[0ml\u001b[0m\u001b[0;34m[\u001b[0m\u001b[0mnew_pivot\u001b[0m\u001b[0;34m]\u001b[0m\u001b[0;34m,\u001b[0m \u001b[0ml\u001b[0m\u001b[0;34m[\u001b[0m\u001b[0mright\u001b[0m\u001b[0;34m]\u001b[0m \u001b[0;34m=\u001b[0m \u001b[0ml\u001b[0m\u001b[0;34m[\u001b[0m\u001b[0mright\u001b[0m\u001b[0;34m]\u001b[0m\u001b[0;34m,\u001b[0m \u001b[0ml\u001b[0m\u001b[0;34m[\u001b[0m\u001b[0mnew_pivot\u001b[0m\u001b[0;34m]\u001b[0m\u001b[0;34m\u001b[0m\u001b[0m\n\u001b[0m\u001b[1;32m     37\u001b[0m     \u001b[0;32mreturn\u001b[0m \u001b[0mnew_pivot\u001b[0m\u001b[0;34m\u001b[0m\u001b[0m\n\u001b[1;32m     38\u001b[0m \u001b[0;34m\u001b[0m\u001b[0m\n",
      "\u001b[0;31mIndexError\u001b[0m: list index out of range"
     ]
    }
   ],
   "source": [
    "fm.find_median_quick([1,2,3,4,5, 6])"
   ]
  },
  {
   "cell_type": "code",
   "execution_count": null,
   "metadata": {},
   "outputs": [],
   "source": []
  },
  {
   "cell_type": "code",
   "execution_count": null,
   "metadata": {},
   "outputs": [],
   "source": []
  },
  {
   "cell_type": "code",
   "execution_count": null,
   "metadata": {},
   "outputs": [],
   "source": []
  }
 ],
 "metadata": {
  "kernelspec": {
   "display_name": "Python 3",
   "language": "python",
   "name": "python3"
  },
  "language_info": {
   "codemirror_mode": {
    "name": "ipython",
    "version": 3
   },
   "file_extension": ".py",
   "mimetype": "text/x-python",
   "name": "python",
   "nbconvert_exporter": "python",
   "pygments_lexer": "ipython3",
   "version": "3.6.6"
  }
 },
 "nbformat": 4,
 "nbformat_minor": 2
}
