{
 "cells": [
  {
   "cell_type": "code",
   "execution_count": 30,
   "metadata": {},
   "outputs": [
    {
     "name": "stdout",
     "output_type": "stream",
     "text": [
      "The autoreload extension is already loaded. To reload it, use:\n",
      "  %reload_ext autoreload\n"
     ]
    }
   ],
   "source": [
    "%load_ext autoreload\n",
    "%autoreload 2\n",
    "import sys\n",
    "import logging\n",
    "from random import randint\n",
    "\n",
    "import heap\n",
    "import find_median as fm\n",
    "ch = logging.StreamHandler(sys.stdout)\n",
    "ch.setFormatter(logging.Formatter('%(name)s - %(levelname)s - %(message)s'))\n",
    "root = logging.getLogger()\n",
    "root.addHandler(ch)\n",
    "heap.logger.setLevel(logging.INFO)\n",
    "fm.logger.setLevel(logging.DEBUG)"
   ]
  },
  {
   "cell_type": "code",
   "execution_count": 323,
   "metadata": {},
   "outputs": [],
   "source": [
    "class Solution:\n",
    "    def calculate_combo(self, first_str_cond, sec_str):\n",
    "        if first_str_cond == 0:\n",
    "            return 0\n",
    "        else:\n",
    "            return first_str_cond * self.numDecodings(sec_str)\n",
    "    \n",
    "    \n",
    "    def numDecodings(self, s):\n",
    "        \"\"\"\n",
    "        :type s: str\n",
    "        :rtype: int\n",
    "        \"\"\"\n",
    "        print(s)\n",
    "        if s == '':\n",
    "            return 0\n",
    "        if s[0]=='0':\n",
    "            return 0\n",
    "        if len(s)==1:\n",
    "            return int(s!='0')\n",
    "        if len(s)==2:\n",
    "            return int(0 < int(s[:2]) < 27) + int(s[1]!='0')\n",
    "        if int(s[:2]) > 26 and s[1]=='0':\n",
    "            return 0\n",
    "        else:\n",
    "            return (\n",
    "                self.calculate_combo(int(s[0]!='0'), s[1:] )\n",
    "                + self.calculate_combo(int(0 < int(s[:2]) < 27), s[2:])\n",
    "            )"
   ]
  },
  {
   "cell_type": "code",
   "execution_count": 324,
   "metadata": {},
   "outputs": [],
   "source": [
    "class Solution(object):\n",
    "    def numDecodings(self, s):\n",
    "        memo = {}\n",
    "        def helper(idx):\n",
    "            if idx == len(s):\n",
    "                return 1\n",
    "            elif idx > len(s) or s[idx] == '0':\n",
    "                return 0\n",
    "            if idx not in memo:\n",
    "                memo[idx] = helper(idx+1)\n",
    "                if s[idx] == '1' or (\n",
    "                    s[idx] == '2' and idx+1 < len(s) and s[idx+1] <= '6'):\n",
    "                    memo[idx] += helper(idx+2)\n",
    "            print(memo)\n",
    "            return memo[idx]\n",
    "        return helper(0)"
   ]
  },
  {
   "cell_type": "code",
   "execution_count": 325,
   "metadata": {},
   "outputs": [],
   "source": [
    "s = Solution()"
   ]
  },
  {
   "cell_type": "code",
   "execution_count": 326,
   "metadata": {},
   "outputs": [
    {
     "name": "stdout",
     "output_type": "stream",
     "text": [
      "{6: 1}\n",
      "{6: 1, 5: 2}\n",
      "{6: 1, 5: 2, 4: 2}\n",
      "{6: 1, 5: 2, 4: 2, 3: 2}\n",
      "{6: 1, 5: 2, 4: 2, 3: 2, 2: 2}\n",
      "{6: 1, 5: 2, 4: 2, 3: 2, 2: 4}\n",
      "{6: 1, 5: 2, 4: 2, 3: 2, 2: 4, 1: 4}\n",
      "{6: 1, 5: 2, 4: 2, 3: 2, 2: 4, 1: 4, 0: 4}\n"
     ]
    },
    {
     "data": {
      "text/plain": [
       "4"
      ]
     },
     "execution_count": 326,
     "metadata": {},
     "output_type": "execute_result"
    }
   ],
   "source": [
    "s.numDecodings(\"4715818\")"
   ]
  },
  {
   "cell_type": "code",
   "execution_count": 98,
   "metadata": {},
   "outputs": [],
   "source": [
    "class Solution:\n",
    "    def max_subarry_hlp(self, nums, left, right, subarrs, cur_max, max_pos):\n",
    "        if (left, right) in subarrs:\n",
    "            return subarrs[(left, right)], max_pos, cur_max\n",
    "        elif right == left + 1:\n",
    "            subarrs[(left, right)] = nums[left]\n",
    "            if nums[left] > cur_max:\n",
    "                max_pos = (left, right)\n",
    "                cur_max = nums[left]\n",
    "            print(max_pos, cur_max)\n",
    "            return nums[left], max_pos, cur_max\n",
    "        else:  # bug below (cur max is being rewritten. state isn't handled nicely)\n",
    "            left_shift, max_pos, cur_max = self.max_subarry_hlp(nums, left, right-1, subarrs, cur_max, max_pos)\n",
    "            right_shift, max_pos, cur_max = self.max_subarry_hlp(nums, left+1, right, subarrs, cur_max, max_pos)\n",
    "            print('ls {}'.format(left_shift))\n",
    "            print('rs {}'.format(right_shift))\n",
    "            if nums[left] + right_shift > cur_max:\n",
    "                max_pos = (left, right)\n",
    "                cur_max = nums[left]\n",
    "            return right_shift + nums[left], max_pos, cur_max\n",
    "        \n",
    "    \n",
    "    def maxSubArray(self, nums):\n",
    "        \"\"\"\n",
    "        :type nums: List[int]\n",
    "        :rtype: int\n",
    "        \"\"\"\n",
    "        cur_max = nums[0]\n",
    "        max_pos = (0, 1)\n",
    "        subarrs = {(0, 1): nums[0]}\n",
    "        dummy, max_pos, cur_max = self.max_subarry_hlp(nums, 0, len(nums), subarrs, cur_max, max_pos)\n",
    "        return cur_max, max_pos, subarrs\n",
    "        \n",
    "        "
   ]
  },
  {
   "cell_type": "code",
   "execution_count": 99,
   "metadata": {},
   "outputs": [],
   "source": [
    "s = Solution()"
   ]
  },
  {
   "cell_type": "code",
   "execution_count": 101,
   "metadata": {},
   "outputs": [
    {
     "name": "stdout",
     "output_type": "stream",
     "text": [
      "(1, 2) 1\n",
      "ls -1\n",
      "rs 1\n",
      "(2, 3) 2\n",
      "ls 1\n",
      "rs 2\n",
      "ls 0\n",
      "rs 3\n"
     ]
    },
    {
     "data": {
      "text/plain": [
       "(-1, (0, 3), {(0, 1): -1, (1, 2): 1, (2, 3): 2})"
      ]
     },
     "execution_count": 101,
     "metadata": {},
     "output_type": "execute_result"
    }
   ],
   "source": [
    "s.maxSubArray([-1, 1 ,2])"
   ]
  },
  {
   "cell_type": "code",
   "execution_count": null,
   "metadata": {},
   "outputs": [],
   "source": []
  },
  {
   "cell_type": "code",
   "execution_count": null,
   "metadata": {},
   "outputs": [],
   "source": []
  },
  {
   "cell_type": "code",
   "execution_count": null,
   "metadata": {},
   "outputs": [],
   "source": []
  },
  {
   "cell_type": "code",
   "execution_count": null,
   "metadata": {},
   "outputs": [],
   "source": []
  }
 ],
 "metadata": {
  "kernelspec": {
   "display_name": "Python 3",
   "language": "python",
   "name": "python3"
  },
  "language_info": {
   "codemirror_mode": {
    "name": "ipython",
    "version": 3
   },
   "file_extension": ".py",
   "mimetype": "text/x-python",
   "name": "python",
   "nbconvert_exporter": "python",
   "pygments_lexer": "ipython3",
   "version": "3.6.6"
  }
 },
 "nbformat": 4,
 "nbformat_minor": 2
}
