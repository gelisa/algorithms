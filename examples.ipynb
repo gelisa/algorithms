{
 "cells": [
  {
   "cell_type": "code",
   "execution_count": 189,
   "metadata": {},
   "outputs": [
    {
     "name": "stdout",
     "output_type": "stream",
     "text": [
      "The autoreload extension is already loaded. To reload it, use:\n",
      "  %reload_ext autoreload\n"
     ]
    }
   ],
   "source": [
    "%load_ext autoreload\n",
    "%autoreload 2\n",
    "import sys\n",
    "import logging\n",
    "\n",
    "import heap\n",
    "ch = logging.StreamHandler(sys.stdout)\n",
    "ch.setFormatter(logging.Formatter('%(name)s - %(levelname)s - %(message)s'))\n",
    "root = logging.getLogger()\n",
    "root.addHandler(ch)\n",
    "heap.logger.setLevel(logging.DEBUG)"
   ]
  },
  {
   "cell_type": "code",
   "execution_count": 180,
   "metadata": {},
   "outputs": [],
   "source": [
    "class Solution:\n",
    "    def calculate_combo(self, first_str_cond, sec_str):\n",
    "        if first_str_cond == 0:\n",
    "            return 0\n",
    "        else:\n",
    "            return first_str_cond * self.numDecodings(sec_str)\n",
    "    \n",
    "    \n",
    "    def numDecodings(self, s):\n",
    "        \"\"\"\n",
    "        :type s: str\n",
    "        :rtype: int\n",
    "        \"\"\"\n",
    "        print(s)\n",
    "        if s == '':\n",
    "            return 0\n",
    "        if s[0]=='0':\n",
    "            return 0\n",
    "        if len(s)==1:\n",
    "            return int(s!='0')\n",
    "        if len(s)==2:\n",
    "            return int(0 < int(s[:2]) < 27) + int(s[1]!='0')\n",
    "        if int(s[:2]) > 26 and s[1]=='0':\n",
    "            return 0\n",
    "        else:\n",
    "            return (\n",
    "                self.calculate_combo(int(s[0]!='0'), s[1:] )\n",
    "                + self.calculate_combo(int(0 < int(s[:2]) < 27), s[2:])\n",
    "            )"
   ]
  },
  {
   "cell_type": "code",
   "execution_count": 181,
   "metadata": {},
   "outputs": [],
   "source": [
    "class Solution(object):\n",
    "    def numDecodings(self, s):\n",
    "        memo = {}\n",
    "        def helper(idx):\n",
    "            if idx == len(s):\n",
    "                return 1\n",
    "            elif idx > len(s) or s[idx] == '0':\n",
    "                return 0\n",
    "            if idx not in memo:\n",
    "                memo[idx] = helper(idx+1)\n",
    "                if s[idx] == '1' or (\n",
    "                    s[idx] == '2' and idx+1 < len(s) and s[idx+1] <= '6'):\n",
    "                    memo[idx] += helper(idx+2)\n",
    "            print(memo)\n",
    "            return memo[idx]\n",
    "        return helper(0)"
   ]
  },
  {
   "cell_type": "code",
   "execution_count": 182,
   "metadata": {},
   "outputs": [],
   "source": [
    "s = Solution()"
   ]
  },
  {
   "cell_type": "code",
   "execution_count": 183,
   "metadata": {},
   "outputs": [
    {
     "name": "stdout",
     "output_type": "stream",
     "text": [
      "{6: 1}\n",
      "{6: 1, 5: 2}\n",
      "{6: 1, 5: 2, 4: 2}\n",
      "{6: 1, 5: 2, 4: 2, 3: 2}\n",
      "{6: 1, 5: 2, 4: 2, 3: 2, 2: 2}\n",
      "{6: 1, 5: 2, 4: 2, 3: 2, 2: 4}\n",
      "{6: 1, 5: 2, 4: 2, 3: 2, 2: 4, 1: 4}\n",
      "{6: 1, 5: 2, 4: 2, 3: 2, 2: 4, 1: 4, 0: 4}\n"
     ]
    },
    {
     "data": {
      "text/plain": [
       "4"
      ]
     },
     "execution_count": 183,
     "metadata": {},
     "output_type": "execute_result"
    }
   ],
   "source": [
    "s.numDecodings(\"4715818\")"
   ]
  },
  {
   "cell_type": "code",
   "execution_count": 196,
   "metadata": {},
   "outputs": [
    {
     "name": "stdout",
     "output_type": "stream",
     "text": [
      "heap - DEBUG - init_from_list 1\n",
      "heap - DEBUG - init_from_list 1\n",
      "heap - DEBUG - init_from_list in while 1\n",
      "heap - DEBUG - init_from_list in while 1\n",
      "heap - DEBUG - perc_down 1\n",
      "heap - DEBUG - perc_down 1\n",
      "heap - DEBUG - perc_down min child idx 2\n",
      "heap - DEBUG - perc_down min child idx 2\n",
      "[0, 2, 1, 3]\n",
      "heap - DEBUG - perc_down in while, items [0, 1, 2, 3]\n",
      "heap - DEBUG - perc_down in while, items [0, 1, 2, 3]\n"
     ]
    }
   ],
   "source": [
    "bh = heap.Bin_Heap([2,1,3])"
   ]
  },
  {
   "cell_type": "code",
   "execution_count": null,
   "metadata": {},
   "outputs": [],
   "source": []
  },
  {
   "cell_type": "code",
   "execution_count": null,
   "metadata": {},
   "outputs": [],
   "source": []
  }
 ],
 "metadata": {
  "kernelspec": {
   "display_name": "Python 3",
   "language": "python",
   "name": "python3"
  },
  "language_info": {
   "codemirror_mode": {
    "name": "ipython",
    "version": 3
   },
   "file_extension": ".py",
   "mimetype": "text/x-python",
   "name": "python",
   "nbconvert_exporter": "python",
   "pygments_lexer": "ipython3",
   "version": "3.6.6"
  }
 },
 "nbformat": 4,
 "nbformat_minor": 2
}
